{
 "cells": [
  {
   "cell_type": "markdown",
   "metadata": {},
   "source": [
    "<h1> <center> CNN Model for Handwritten Character Recognitions </center> </h1>"
   ]
  },
  {
   "cell_type": "code",
   "execution_count": 1,
   "metadata": {},
   "outputs": [],
   "source": [
    "# import libraries needed for \n",
    "import pandas as pd\n",
    "import numpy as np\n",
    "import matplotlib.pyplot as plt\n",
    "import matplotlib.image as mpimg\n",
    "import seaborn as sns\n",
    "%matplotlib inline\n",
    "\n",
    "np.random.seed(777)\n",
    "\n",
    "from sklearn.model_selection import train_test_split\n",
    "from sklearn.metrics import confusion_matrix\n",
    "from sklearn.metrics import plot_confusion_matrix\n",
    "import itertools\n",
    "from sklearn.preprocessing import MinMaxScaler\n",
    "\n",
    "from keras.utils.np_utils import to_categorical # convert to one-hot-encoding\n",
    "from keras.models import Sequential\n",
    "from keras.layers import Dense, Dropout, Flatten, Conv2D, MaxPool2D\n",
    "from keras.optimizers import RMSprop\n",
    "from keras.preprocessing.image import ImageDataGenerator\n",
    "from keras.callbacks import ReduceLROnPlateau\n",
    "\n",
    "sns.set(style='white', context='notebook', palette='deep')"
   ]
  },
  {
   "cell_type": "markdown",
   "metadata": {},
   "source": [
    "# 1. Load data "
   ]
  },
  {
   "cell_type": "code",
   "execution_count": 2,
   "metadata": {},
   "outputs": [],
   "source": [
    "data = pd.read_csv(\"A_Z Handwritten Data.csv\")\n",
    "data = data.astype('float32')\n",
    "#rename the label column\n",
    "data1 = data.rename(columns={'0': 'label'})"
   ]
  },
  {
   "cell_type": "code",
   "execution_count": 3,
   "metadata": {},
   "outputs": [],
   "source": [
    "X = data1.drop('label', axis=1)\n",
    "y = data1['label']\n",
    "# split data\n",
    "trainX, testX, trainY, testY = train_test_split(X,y)"
   ]
  },
  {
   "cell_type": "markdown",
   "metadata": {},
   "source": [
    "## 1.1 Display of a Sample Characters"
   ]
  },
  {
   "cell_type": "code",
   "execution_count": 4,
   "metadata": {},
   "outputs": [
    {
     "data": {
      "image/png": "[encoded data removed]",
      "text/plain": [
       "<Figure size 864x648 with 9 Axes>"
      ]
     },
     "metadata": {},
     "output_type": "display_data"
    }
   ],
   "source": [
    "# show a sample of the images\n",
    "plt.figure(figsize = (12,9))\n",
    "row, colums = 3, 3\n",
    "for i in range(9):  \n",
    "    plt.subplot(colums, row, i+1)\n",
    "    plt.imshow(X.sample(9).iloc[i].values.reshape(28,28),interpolation='nearest', cmap='Greys')\n",
    "plt.show()"
   ]
  },
  {
   "cell_type": "markdown",
   "metadata": {},
   "source": [
    "## 1.2 Data Pro-processing "
   ]
  },
  {
   "cell_type": "code",
   "execution_count": 5,
   "metadata": {},
   "outputs": [],
   "source": [
    "# scale data\n",
    "standard_scaler = MinMaxScaler()\n",
    "standard_scaler.fit(trainX)\n",
    "\n",
    "trainX = standard_scaler.transform(trainX)\n",
    "testX = standard_scaler.transform(testX)"
   ]
  },
  {
   "cell_type": "code",
   "execution_count": 6,
   "metadata": {},
   "outputs": [],
   "source": [
    "# reshape data\n",
    "trainX = trainX.reshape(trainX.shape[0],28,28,1).astype('float32')\n",
    "testX = testX.reshape(testX.shape[0],28,28,1).astype('float32')"
   ]
  },
  {
   "cell_type": "code",
   "execution_count": 7,
   "metadata": {},
   "outputs": [],
   "source": [
    "# Encode labels to one hot vectors (ex : 2 -> [0,0,1,0,0,0,0,0,0,0])\n",
    "trainY = to_categorical(trainY, num_classes = 26)\n",
    "testY = to_categorical(testY, num_classes = 26)"
   ]
  },
  {
   "cell_type": "markdown",
   "metadata": {},
   "source": [
    "# 2. CNN Model"
   ]
  },
  {
   "cell_type": "code",
   "execution_count": 8,
   "metadata": {},
   "outputs": [],
   "source": [
    "# Set the CNN model \n",
    "# CNN architechture is In -> [[Conv2D->relu]*2 -> MaxPool2D -> Dropout]*2 -> Flatten -> Dense -> Dropout -> Out\n",
    "\n",
    "myCNN = Sequential()\n",
    "\n",
    "myCNN.add(Conv2D(filters = 32, kernel_size = (5,5),padding = 'Same', activation ='relu', input_shape = (28,28,1)))\n",
    "myCNN.add(MaxPool2D(pool_size=(2,2)))\n",
    "myCNN.add(Dropout(0.25))\n",
    "\n",
    "myCNN.add(Flatten())\n",
    "myCNN.add(Dense(128, activation = \"relu\"))\n",
    "myCNN.add(Dropout(0.5))\n",
    "myCNN.add(Dense(len(y.unique()), activation = \"softmax\"))"
   ]
  },
  {
   "cell_type": "code",
   "execution_count": 9,
   "metadata": {},
   "outputs": [],
   "source": [
    "# Compile the model\n",
    "myCNN.compile(optimizer = 'adam' , loss = \"categorical_crossentropy\", metrics=[\"accuracy\"])\n",
    "\n",
    "# Set a learning rate annealer\n",
    "learning_rate_reduction = ReduceLROnPlateau(monitor='val_accuracy', \n",
    "                                            patience=3, \n",
    "                                            verbose=1, \n",
    "                                            factor=0.5, \n",
    "                                            min_lr=0.00001)"
   ]
  },
  {
   "cell_type": "code",
   "execution_count": 15,
   "metadata": {},
   "outputs": [],
   "source": [
    "epochs = 35\n",
    "batch_size = 200"
   ]
  },
  {
   "cell_type": "code",
   "execution_count": null,
   "metadata": {},
   "outputs": [
    {
     "name": "stdout",
     "output_type": "stream",
     "text": [
      "Epoch 1/35\n",
      "1397/1397 - 196s - loss: 0.0638 - accuracy: 0.9801 - val_loss: 0.0487 - val_accuracy: 0.9912\n",
      "Epoch 2/35\n",
      "1397/1397 - 184s - loss: 0.0615 - accuracy: 0.9809 - val_loss: 0.0509 - val_accuracy: 0.9910\n",
      "Epoch 3/35\n",
      "1397/1397 - 198s - loss: 0.0620 - accuracy: 0.9807 - val_loss: 0.0511 - val_accuracy: 0.9909\n",
      "Epoch 4/35\n",
      "1397/1397 - 188s - loss: 0.0599 - accuracy: 0.9813 - val_loss: 0.0489 - val_accuracy: 0.9915\n",
      "Epoch 5/35\n",
      "1397/1397 - 197s - loss: 0.0588 - accuracy: 0.9816 - val_loss: 0.0484 - val_accuracy: 0.9918\n",
      "Epoch 6/35\n",
      "1397/1397 - 228s - loss: 0.0569 - accuracy: 0.9821 - val_loss: 0.0473 - val_accuracy: 0.9921\n",
      "Epoch 7/35\n",
      "1397/1397 - 191s - loss: 0.0561 - accuracy: 0.9820 - val_loss: 0.0478 - val_accuracy: 0.9921\n",
      "Epoch 8/35\n",
      "1397/1397 - 208s - loss: 0.0555 - accuracy: 0.9823 - val_loss: 0.0515 - val_accuracy: 0.9921\n",
      "Epoch 9/35\n",
      "1397/1397 - 201s - loss: 0.0547 - accuracy: 0.9824 - val_loss: 0.0509 - val_accuracy: 0.9926\n",
      "Epoch 10/35\n",
      "1397/1397 - 203s - loss: 0.0526 - accuracy: 0.9829 - val_loss: 0.0511 - val_accuracy: 0.9923\n",
      "Epoch 11/35\n",
      "1397/1397 - 197s - loss: 0.0528 - accuracy: 0.9832 - val_loss: 0.0507 - val_accuracy: 0.9925\n",
      "Epoch 12/35\n",
      "1397/1397 - 201s - loss: 0.0517 - accuracy: 0.9835 - val_loss: 0.0512 - val_accuracy: 0.9927\n",
      "Epoch 13/35\n",
      "1397/1397 - 193s - loss: 0.0517 - accuracy: 0.9834 - val_loss: 0.0508 - val_accuracy: 0.9924\n",
      "Epoch 14/35\n",
      "1397/1397 - 175s - loss: 0.0496 - accuracy: 0.9841 - val_loss: 0.0531 - val_accuracy: 0.9922\n",
      "Epoch 15/35\n",
      "1397/1397 - 175s - loss: 0.0505 - accuracy: 0.9837 - val_loss: 0.0518 - val_accuracy: 0.9924\n",
      "Epoch 16/35\n",
      "1397/1397 - 171s - loss: 0.0500 - accuracy: 0.9837 - val_loss: 0.0559 - val_accuracy: 0.9929\n",
      "Epoch 17/35\n",
      "1397/1397 - 181s - loss: 0.0483 - accuracy: 0.9844 - val_loss: 0.0531 - val_accuracy: 0.9929\n",
      "Epoch 18/35\n",
      "1397/1397 - 214s - loss: 0.0485 - accuracy: 0.9843 - val_loss: 0.0532 - val_accuracy: 0.9934\n",
      "Epoch 19/35\n"
     ]
    }
   ],
   "source": [
    "# Fit the model with augmented data\n",
    "CNN_run = myCNN.fit(trainX, trainY, batch_size = batch_size, epochs = epochs, validation_data = (testX, testY), verbose = 2)"
   ]
  },
  {
   "cell_type": "markdown",
   "metadata": {},
   "source": [
    "## 2.1 Display of Learning Progress"
   ]
  },
  {
   "cell_type": "code",
   "execution_count": null,
   "metadata": {},
   "outputs": [],
   "source": [
    "plt.figure(figsize = (10,8))\n",
    "plt.plot(CNN_run.history['loss'])\n",
    "plt.plot(CNN_run.history['val_loss'])\n",
    "plt.title('Model loss')\n",
    "plt.ylabel('Loss')\n",
    "plt.xlabel('Epoch')\n",
    "plt.legend(['Train loss', 'Test loss'], loc='upper right')\n",
    "plt.show()"
   ]
  },
  {
   "cell_type": "code",
   "execution_count": null,
   "metadata": {},
   "outputs": [],
   "source": [
    "plt.figure(figsize = (10,8))\n",
    "plt.plot(CNN_run.history['accuracy'])\n",
    "plt.plot(CNN_run.history['val_accuracy'])\n",
    "plt.title('Model loss')\n",
    "plt.ylabel('Accuracy')\n",
    "plt.xlabel('Epoch')\n",
    "plt.legend(['Train accuracy', 'Test accuracy'], loc='lower right')\n",
    "plt.show()"
   ]
  },
  {
   "cell_type": "markdown",
   "metadata": {},
   "source": [
    "## 2.2 Confusion Matrix for Classification"
   ]
  },
  {
   "cell_type": "code",
   "execution_count": null,
   "metadata": {},
   "outputs": [],
   "source": [
    "conf_mat=confusion_matrix(testY.argmax(axis=1),myCNN.predict(testX).argmax(axis=1))\n",
    "conf_mat_df = pd.DataFrame(conf_mat, range(26),range(26))\n",
    "plt.figure(figsize = (20,15))\n",
    "sns.set(font_scale=1.4)#for label size\n",
    "sns.heatmap(conf_mat_df, annot=True,annot_kws={\"size\": 16},cmap=\"YlGnBu\")# font size"
   ]
  }
 ],
 "metadata": {
  "kernelspec": {
   "display_name": "Python 3",
   "language": "python",
   "name": "python3"
  },
  "language_info": {
   "codemirror_mode": {
    "name": "ipython",
    "version": 3
   },
   "file_extension": ".py",
   "mimetype": "text/x-python",
   "name": "python",
   "nbconvert_exporter": "python",
   "pygments_lexer": "ipython3",
   "version": "3.7.6"
  }
 },
 "nbformat": 4,
 "nbformat_minor": 4
}
